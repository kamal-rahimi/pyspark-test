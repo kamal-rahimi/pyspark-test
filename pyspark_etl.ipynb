{
 "cells": [
  {
   "cell_type": "code",
   "execution_count": 8,
   "metadata": {},
   "outputs": [
    {
     "data": {
      "text/html": [
       "\n",
       "            <div>\n",
       "                <p><b>SparkSession - hive</b></p>\n",
       "                \n",
       "        <div>\n",
       "            <p><b>SparkContext</b></p>\n",
       "\n",
       "            <p><a href=\"http://192.168.2.16:4042\">Spark UI</a></p>\n",
       "\n",
       "            <dl>\n",
       "              <dt>Version</dt>\n",
       "                <dd><code>v3.0.1</code></dd>\n",
       "              <dt>Master</dt>\n",
       "                <dd><code>local[*]</code></dd>\n",
       "              <dt>AppName</dt>\n",
       "                <dd><code>PySparkShell</code></dd>\n",
       "            </dl>\n",
       "        </div>\n",
       "        \n",
       "            </div>\n",
       "        "
      ],
      "text/plain": [
       "<pyspark.sql.session.SparkSession at 0x7f8db06b7250>"
      ]
     },
     "execution_count": 8,
     "metadata": {},
     "output_type": "execute_result"
    }
   ],
   "source": [
    "import pyspark\n",
    "from pyspark.sql import SparkSession\n",
    "from pyspark.sql import SQLContext\n",
    "\n",
    "spark = SparkSession.builder.appName('test-pyspark').getOrCreate()\n",
    "sqlContext = SQLContext(spark)\n",
    "\n",
    "from pyspark.sql import functions as F\n",
    "\n",
    "spark"
   ]
  },
  {
   "cell_type": "code",
   "execution_count": 17,
   "metadata": {},
   "outputs": [],
   "source": [
    "import os\n",
    "\n",
    "WEATHER_DATA_PATH = \"./data/2019/\"\n",
    "\n",
    "weather_data_files_name = os.listdir(WEATHER_DATA_PATH)"
   ]
  },
  {
   "cell_type": "code",
   "execution_count": 18,
   "metadata": {},
   "outputs": [
    {
     "data": {
      "text/plain": [
       "['part-00002-890686c0-c142-4c69-a744-dfdc9eca7df4-c000.csv',\n",
       " 'part-00001-890686c0-c142-4c69-a744-dfdc9eca7df4-c000.csv',\n",
       " 'part-00003-890686c0-c142-4c69-a744-dfdc9eca7df4-c000.csv',\n",
       " 'part-00000-890686c0-c142-4c69-a744-dfdc9eca7df4-c000.csv',\n",
       " 'part-00004-890686c0-c142-4c69-a744-dfdc9eca7df4-c000.csv']"
      ]
     },
     "execution_count": 18,
     "metadata": {},
     "output_type": "execute_result"
    }
   ],
   "source": [
    "weather_data_files_name"
   ]
  },
  {
   "cell_type": "code",
   "execution_count": 31,
   "metadata": {},
   "outputs": [
    {
     "name": "stdout",
     "output_type": "stream",
     "text": [
      "+------+-----+--------+----+----+------+-----+-----+----+-----+-----+----+----+-----+-----+------+\n",
      "|STN---| WBAN|YEARMODA|TEMP|DEWP|   SLP|  STP|VISIB|WDSP|MXSPD| GUST| MAX| MIN| PRCP| SNDP|FRSHTT|\n",
      "+------+-----+--------+----+----+------+-----+-----+----+-----+-----+----+----+-----+-----+------+\n",
      "|724233|53841|20190101|49.2|41.6|1020.6|989.3| 10.0| 6.4| 18.1| 28.9|66.0|39.0|1.25G|999.9|     0|\n",
      "|724233|53841|20190102|42.6|38.1|1022.3|993.1|  9.3| 2.8|  8.0|999.9|55.0|41.0|0.00G|999.9|     0|\n",
      "+------+-----+--------+----+----+------+-----+-----+----+-----+-----+----+----+-----+-----+------+\n",
      "only showing top 2 rows\n",
      "\n"
     ]
    }
   ],
   "source": [
    "wetaher_data_files_df = []\n",
    "\n",
    "for file_name in weather_data_files_name:\n",
    "    file_path = WEATHER_DATA_PATH + file_name\n",
    "    df = spark.read.csv(WEATHER_DATA_PATH + weather_data_files_name[1],\n",
    "                        sep=\",\",\n",
    "                        inferSchema=\"true\",\n",
    "                        header=\"true\")\n",
    "    wetaher_data_files_df.append(df)\n",
    "\n",
    "wetaher_data_files_df[0].show(2)"
   ]
  },
  {
   "cell_type": "code",
   "execution_count": 35,
   "metadata": {},
   "outputs": [
    {
     "name": "stdout",
     "output_type": "stream",
     "text": [
      "894455\n",
      "894455\n",
      "894455\n",
      "894455\n",
      "894455\n"
     ]
    }
   ],
   "source": [
    "for file in wetaher_data_files_df:\n",
    "    print(df.count())"
   ]
  },
  {
   "cell_type": "code",
   "execution_count": 36,
   "metadata": {},
   "outputs": [],
   "source": [
    "import functools \n",
    "\n",
    "def unionAll(dfs):\n",
    "    return functools.reduce(lambda df1, df2: df1.union(df2.select(df1.columns)), dfs)\n",
    "\n",
    "weather_data_df = unionAll(wetaher_data_files_df)"
   ]
  },
  {
   "cell_type": "code",
   "execution_count": 38,
   "metadata": {},
   "outputs": [
    {
     "name": "stdout",
     "output_type": "stream",
     "text": [
      "+------+-----+--------+----+----+------+-----+-----+----+-----+-----+----+----+-----+-----+------+\n",
      "|STN---| WBAN|YEARMODA|TEMP|DEWP|   SLP|  STP|VISIB|WDSP|MXSPD| GUST| MAX| MIN| PRCP| SNDP|FRSHTT|\n",
      "+------+-----+--------+----+----+------+-----+-----+----+-----+-----+----+----+-----+-----+------+\n",
      "|724233|53841|20190101|49.2|41.6|1020.6|989.3| 10.0| 6.4| 18.1| 28.9|66.0|39.0|1.25G|999.9|     0|\n",
      "|724233|53841|20190102|42.6|38.1|1022.3|993.1|  9.3| 2.8|  8.0|999.9|55.0|41.0|0.00G|999.9|     0|\n",
      "+------+-----+--------+----+----+------+-----+-----+----+-----+-----+----+----+-----+-----+------+\n",
      "only showing top 2 rows\n",
      "\n"
     ]
    }
   ],
   "source": [
    "weather_data_df.show(2)"
   ]
  },
  {
   "cell_type": "code",
   "execution_count": 37,
   "metadata": {},
   "outputs": [
    {
     "data": {
      "text/plain": [
       "4472275"
      ]
     },
     "execution_count": 37,
     "metadata": {},
     "output_type": "execute_result"
    }
   ],
   "source": [
    "weather_data_df.count()"
   ]
  },
  {
   "cell_type": "code",
   "execution_count": 43,
   "metadata": {},
   "outputs": [
    {
     "name": "stdout",
     "output_type": "stream",
     "text": [
      "root\n",
      " |-- STN---: integer (nullable = true)\n",
      " |-- WBAN: integer (nullable = true)\n",
      " |-- YEARMODA: integer (nullable = true)\n",
      " |-- TEMP: double (nullable = true)\n",
      " |-- DEWP: double (nullable = true)\n",
      " |-- SLP: double (nullable = true)\n",
      " |-- STP: double (nullable = true)\n",
      " |-- VISIB: double (nullable = true)\n",
      " |-- WDSP: double (nullable = true)\n",
      " |-- MXSPD: double (nullable = true)\n",
      " |-- GUST: double (nullable = true)\n",
      " |-- MAX: string (nullable = true)\n",
      " |-- MIN: string (nullable = true)\n",
      " |-- PRCP: string (nullable = true)\n",
      " |-- SNDP: double (nullable = true)\n",
      " |-- FRSHTT: integer (nullable = true)\n",
      "\n"
     ]
    }
   ],
   "source": [
    "weather_data_df.printSchema()"
   ]
  },
  {
   "cell_type": "code",
   "execution_count": 60,
   "metadata": {},
   "outputs": [
    {
     "name": "stdout",
     "output_type": "stream",
     "text": [
      "root\n",
      " |-- STN_NO: integer (nullable = true)\n",
      " |-- WBAN: integer (nullable = true)\n",
      " |-- YEARMODA: integer (nullable = true)\n",
      " |-- TEMP: double (nullable = true)\n",
      " |-- DEWP: double (nullable = true)\n",
      " |-- SLP: double (nullable = true)\n",
      " |-- STP: double (nullable = true)\n",
      " |-- VISIB: double (nullable = true)\n",
      " |-- WDSP: double (nullable = true)\n",
      " |-- MXSPD: double (nullable = true)\n",
      " |-- GUST: double (nullable = true)\n",
      " |-- MAX: string (nullable = true)\n",
      " |-- MIN: string (nullable = true)\n",
      " |-- PRCP: string (nullable = true)\n",
      " |-- SNDP: double (nullable = true)\n",
      " |-- FRSHTT: integer (nullable = true)\n",
      "\n"
     ]
    }
   ],
   "source": [
    "weather_data_df = weather_data_df.withColumnRenamed(\"STN---\", \"STN_NO\")\n",
    "weather_data_df.printSchema()"
   ]
  },
  {
   "cell_type": "code",
   "execution_count": null,
   "metadata": {},
   "outputs": [],
   "source": [
    "# 2. Join the stationlist.csv with the countrylist.csv to get the full country name\n",
    "# for each station number."
   ]
  },
  {
   "cell_type": "code",
   "execution_count": 66,
   "metadata": {},
   "outputs": [
    {
     "name": "stdout",
     "output_type": "stream",
     "text": [
      "+------+------------+\n",
      "|STN_NO|COUNTRY_ABBR|\n",
      "+------+------------+\n",
      "|012240|          NO|\n",
      "|020690|          SW|\n",
      "+------+------------+\n",
      "only showing top 2 rows\n",
      "\n"
     ]
    }
   ],
   "source": [
    "staion_list_df = spark.read.csv(\"./stationlist.csv\",\n",
    "                                sep=\",\",\n",
    "                                inferSchema=\"true\",\n",
    "                                header=\"true\")\n",
    "\n",
    "staion_list_df.show(2)"
   ]
  },
  {
   "cell_type": "code",
   "execution_count": 67,
   "metadata": {},
   "outputs": [
    {
     "name": "stdout",
     "output_type": "stream",
     "text": [
      "+------------+-------------------+\n",
      "|COUNTRY_ABBR|       COUNTRY_FULL|\n",
      "+------------+-------------------+\n",
      "|          AA|              ARUBA|\n",
      "|          AC|ANTIGUA AND BARBUDA|\n",
      "+------------+-------------------+\n",
      "only showing top 2 rows\n",
      "\n"
     ]
    }
   ],
   "source": [
    "country_list_df = spark.read.csv(\"./countrylist.csv\",\n",
    "                                sep=\",\",\n",
    "                                inferSchema=\"true\",\n",
    "                                header=\"true\")\n",
    "\n",
    "country_list_df.show(2)"
   ]
  },
  {
   "cell_type": "code",
   "execution_count": 68,
   "metadata": {},
   "outputs": [
    {
     "name": "stdout",
     "output_type": "stream",
     "text": [
      "+------------+------------+------+\n",
      "|COUNTRY_ABBR|COUNTRY_FULL|STN_NO|\n",
      "+------------+------------+------+\n",
      "|          NO|      NORWAY|012240|\n",
      "|          SW|      SWEDEN|020690|\n",
      "|          SW|      SWEDEN|020870|\n",
      "+------------+------------+------+\n",
      "only showing top 3 rows\n",
      "\n"
     ]
    }
   ],
   "source": [
    "full_country_startion_list_df = country_list_df.join(staion_list_df, ['COUNTRY_ABBR'])\n",
    "full_country_startion_list_df.show(3)"
   ]
  },
  {
   "cell_type": "code",
   "execution_count": null,
   "metadata": {},
   "outputs": [],
   "source": []
  },
  {
   "cell_type": "code",
   "execution_count": 69,
   "metadata": {},
   "outputs": [],
   "source": [
    "# 3. Join the global weather data with the full country names by station number."
   ]
  },
  {
   "cell_type": "code",
   "execution_count": 70,
   "metadata": {},
   "outputs": [
    {
     "name": "stdout",
     "output_type": "stream",
     "text": [
      "+------+-----+--------+----+----+------+------+-----+----+-----+-----+-----+-----+-----+-----+------+------------+------------+\n",
      "|STN_NO| WBAN|YEARMODA|TEMP|DEWP|   SLP|   STP|VISIB|WDSP|MXSPD| GUST|  MAX|  MIN| PRCP| SNDP|FRSHTT|COUNTRY_ABBR|COUNTRY_FULL|\n",
      "+------+-----+--------+----+----+------+------+-----+----+-----+-----+-----+-----+-----+-----+------+------------+------------+\n",
      "| 64590|99999|20190101|43.0|40.9|1033.1|1013.1|999.9| 9.6| 11.7|999.9|45.1*|38.7*|0.04F|999.9|     0|          BE|     BELGIUM|\n",
      "| 64590|99999|20190102|38.6|33.9|1038.7|1018.4|999.9| 7.0|  9.7|999.9| 41.0| 35.6|0.00E|999.9|     0|          BE|     BELGIUM|\n",
      "+------+-----+--------+----+----+------+------+-----+----+-----+-----+-----+-----+-----+-----+------+------------+------------+\n",
      "only showing top 2 rows\n",
      "\n"
     ]
    }
   ],
   "source": [
    "weather_data_country_name_df = weather_data_df.join(full_country_startion_list_df, [\"STN_NO\"])\n",
    "weather_data_country_name_df.show(2)"
   ]
  },
  {
   "cell_type": "code",
   "execution_count": null,
   "metadata": {},
   "outputs": [],
   "source": [
    "# Step 2\n",
    "\n",
    "# 1. Which country had the hottest average mean temperature over the year?"
   ]
  },
  {
   "cell_type": "code",
   "execution_count": 121,
   "metadata": {},
   "outputs": [],
   "source": [
    "# The \"TEMP\" column NA values are shows with 9999.9. We first replace these values by nan\n",
    "weather_data_country_name_df = weather_data_country_name_df.replace(9999.9, None, subset=[\"TEMP\"])"
   ]
  },
  {
   "cell_type": "code",
   "execution_count": 120,
   "metadata": {},
   "outputs": [
    {
     "name": "stdout",
     "output_type": "stream",
     "text": [
      "+-------+------------------+\n",
      "|summary|              TEMP|\n",
      "+-------+------------------+\n",
      "|  count|           4433950|\n",
      "|   mean|52.586750076117205|\n",
      "| stddev|22.692241474316322|\n",
      "|    min|             -67.9|\n",
      "|    max|             109.9|\n",
      "+-------+------------------+\n",
      "\n"
     ]
    }
   ],
   "source": [
    "weather_data_country_name_df.describe(\"TEMP\").show()"
   ]
  },
  {
   "cell_type": "code",
   "execution_count": null,
   "metadata": {},
   "outputs": [],
   "source": [
    "# From the above there is no values with 9999.9 in the dataframe\n",
    "# Since we are calculating the mean temprture here, we do not need to replace the values\n",
    "# however, if further processing is required, we could replace them with mean or median of TEMP values for each country."
   ]
  },
  {
   "cell_type": "code",
   "execution_count": 79,
   "metadata": {},
   "outputs": [
    {
     "name": "stdout",
     "output_type": "stream",
     "text": [
      "+------------+--------+---------------------+\n",
      "|COUNTRY_FULL|YEARMODA|average_day_mean_temp|\n",
      "+------------+--------+---------------------+\n",
      "|      KUWAIT|20190707|                108.1|\n",
      "|      KUWAIT|20190725|                107.2|\n",
      "|      KUWAIT|20190609|                107.0|\n",
      "|      KUWAIT|20190627|                107.0|\n",
      "|      KUWAIT|20190628|                106.9|\n",
      "+------------+--------+---------------------+\n",
      "only showing top 5 rows\n",
      "\n"
     ]
    }
   ],
   "source": [
    "# First compute the averaage temprature for day over all statiions in each country\n",
    "\n",
    "country_day_mean_temp_df = weather_data_country_name_df.groupBy([\"COUNTRY_FULL\", 'YEARMODA'])\\\n",
    "                                                               .agg(F.mean(\"TEMP\").alias(\"average_day_mean_temp\"))\\\n",
    "                                                               .orderBy(F.desc('average_day_mean_temp'))\n",
    "\n",
    "country_day_mean_temp_df.show(5)"
   ]
  },
  {
   "cell_type": "code",
   "execution_count": 106,
   "metadata": {},
   "outputs": [
    {
     "name": "stdout",
     "output_type": "stream",
     "text": [
      "+------------+-----------------+\n",
      "|COUNTRY_FULL|average_mean_temp|\n",
      "+------------+-----------------+\n",
      "|       NIGER|86.85552511415523|\n",
      "|        OMAN|83.77134986225896|\n",
      "|       QATAR|83.58379120879125|\n",
      "|    THAILAND|83.00479452054793|\n",
      "|    COLOMBIA|82.89273972602739|\n",
      "+------------+-----------------+\n",
      "only showing top 5 rows\n",
      "\n"
     ]
    }
   ],
   "source": [
    "# Now caluclate mean temprature over all days for each country\n",
    "\n",
    "country_mean_temp_df = country_day_mean_temp_df.groupBy([\"COUNTRY_FULL\"])\\\n",
    "                                               .agg(F.mean(\"average_day_mean_temp\").alias(\"average_mean_temp\"))\\\n",
    "                                               .orderBy(F.desc('average_mean_temp'))\n",
    "\n",
    "country_mean_temp_df.show(5)"
   ]
  },
  {
   "cell_type": "code",
   "execution_count": null,
   "metadata": {},
   "outputs": [],
   "source": [
    "# From the above results, NIGER was the hottest country based on average yearly temrature"
   ]
  },
  {
   "cell_type": "code",
   "execution_count": null,
   "metadata": {},
   "outputs": [],
   "source": []
  },
  {
   "cell_type": "code",
   "execution_count": null,
   "metadata": {},
   "outputs": [],
   "source": [
    "# 2. Which country had the most consecutive days of tornadoes/funnel cloud\n",
    "# formations?"
   ]
  },
  {
   "cell_type": "code",
   "execution_count": 138,
   "metadata": {},
   "outputs": [
    {
     "name": "stdout",
     "output_type": "stream",
     "text": [
      "+------+-----+--------+----+----+------+------+-----+----+-----+-----+-----+-----+-----+-----+------+------------+------------+--------+\n",
      "|STN_NO| WBAN|YEARMODA|TEMP|DEWP|   SLP|   STP|VISIB|WDSP|MXSPD| GUST|  MAX|  MIN| PRCP| SNDP|FRSHTT|COUNTRY_ABBR|COUNTRY_FULL|To_Fu_Cl|\n",
      "+------+-----+--------+----+----+------+------+-----+----+-----+-----+-----+-----+-----+-----+------+------------+------------+--------+\n",
      "| 64590|99999|20190101|43.0|40.9|1033.1|1013.1|999.9| 9.6| 11.7|999.9|45.1*|38.7*|0.04F|999.9|     0|          BE|     BELGIUM|       0|\n",
      "| 64590|99999|20190102|38.6|33.9|1038.7|1018.4|999.9| 7.0|  9.7|999.9| 41.0| 35.6|0.00E|999.9|     0|          BE|     BELGIUM|       0|\n",
      "| 64590|99999|20190103|37.2|35.4|1040.9|1020.5|999.9| 5.2|  9.7|999.9| 40.6|34.3*|0.01E|999.9|     0|          BE|     BELGIUM|       0|\n",
      "| 64590|99999|20190104|35.7|34.3|1039.6|1019.2|999.9| 6.7| 11.7|999.9| 38.7| 32.5|0.01F|999.9|     0|          BE|     BELGIUM|       0|\n",
      "| 64590|99999|20190105|39.7|39.5|1035.4|1015.2|999.9| 9.5| 11.7|999.9| 42.1| 34.7|0.08F|999.9|     0|          BE|     BELGIUM|       0|\n",
      "+------+-----+--------+----+----+------+------+-----+----+-----+-----+-----+-----+-----+-----+------+------------+------------+--------+\n",
      "only showing top 5 rows\n",
      "\n"
     ]
    }
   ],
   "source": [
    "from pyspark.sql.types import IntegerType\n",
    "\n",
    "weather_data_country_name_tornado_df = weather_data_country_name_df.withColumn(\"To_Fu_Cl\",\n",
    "                                                                               F.col(\"FRSHTT\").cast(IntegerType()) % 10)\n",
    "weather_data_country_name_tornado_df.show(5)"
   ]
  },
  {
   "cell_type": "code",
   "execution_count": 149,
   "metadata": {},
   "outputs": [
    {
     "name": "stdout",
     "output_type": "stream",
     "text": [
      "+------------+--------+------------+\n",
      "|COUNTRY_FULL|YEARMODA|Any_To_Fu_Cl|\n",
      "+------------+--------+------------+\n",
      "|     BELGIUM|20190215|           0|\n",
      "| SWITZERLAND|20190105|           0|\n",
      "| SWITZERLAND|20190307|           0|\n",
      "| SWITZERLAND|20190309|           0|\n",
      "| SWITZERLAND|20190918|           0|\n",
      "+------------+--------+------------+\n",
      "only showing top 5 rows\n",
      "\n"
     ]
    }
   ],
   "source": [
    "#  Create new column that shows wheather there was any Torando in each country in each day in all stations\n",
    "\n",
    "grouped_weather_data_country_name_tornado_df = weather_data_country_name_tornado_df.groupBy([\"COUNTRY_FULL\", 'YEARMODA'])\\\n",
    "                                                                           .agg(F.max('To_Fu_Cl').alias(\"Any_To_Fu_Cl\"))\n",
    "\n",
    "grouped_weather_data_country_name_tornado_df.show(5)"
   ]
  },
  {
   "cell_type": "code",
   "execution_count": 159,
   "metadata": {},
   "outputs": [
    {
     "ename": "AnalysisException",
     "evalue": "cannot resolve 'sum(`Consecutive_tonado`)' due to data type mismatch: function sum requires numeric types, not boolean;;\n'Aggregate [COUNTRY_FULL#3012], [COUNTRY_FULL#3012, sum(Consecutive_tonado#7873) AS sum(Consecutive_tonado)#7885]\n+- Project [COUNTRY_FULL#3012, YEARMODA#1029, Any_To_Fu_Cl#7736, Any_To_Fu_Cl_prev_day#7868, ((Any_To_Fu_Cl#7736 = 1) AND (Any_To_Fu_Cl_prev_day#7868 = 1)) AS Consecutive_tonado#7873]\n   +- Project [COUNTRY_FULL#3012, YEARMODA#1029, Any_To_Fu_Cl#7736, Any_To_Fu_Cl_prev_day#7868]\n      +- Project [COUNTRY_FULL#3012, YEARMODA#1029, Any_To_Fu_Cl#7736, Any_To_Fu_Cl_prev_day#7868, Any_To_Fu_Cl_prev_day#7868]\n         +- Window [lag(Any_To_Fu_Cl#7736, 1, null) windowspecdefinition(COUNTRY_FULL#3012, YEARMODA#1029 ASC NULLS FIRST, specifiedwindowframe(RowFrame, -1, -1)) AS Any_To_Fu_Cl_prev_day#7868], [COUNTRY_FULL#3012], [YEARMODA#1029 ASC NULLS FIRST]\n            +- Project [COUNTRY_FULL#3012, YEARMODA#1029, Any_To_Fu_Cl#7736]\n               +- Aggregate [COUNTRY_FULL#3012, YEARMODA#1029], [COUNTRY_FULL#3012, YEARMODA#1029, max(To_Fu_Cl#7149) AS Any_To_Fu_Cl#7736]\n                  +- Project [STN_NO#2797, WBAN#1028, YEARMODA#1029, TEMP#6526, DEWP#1031, SLP#1032, STP#1033, VISIB#1034, WDSP#6671, MXSPD#1036, GUST#1037, MAX#1038, MIN#1039, PRCP#1040, SNDP#1041, FRSHTT#1042, COUNTRY_ABBR#3011, COUNTRY_FULL#3012, (cast(FRSHTT#1042 as int) % 10) AS To_Fu_Cl#7149]\n                     +- Project [STN_NO#2797, WBAN#1028, YEARMODA#1029, TEMP#6526, DEWP#1031, SLP#1032, STP#1033, VISIB#1034, CASE WHEN (WDSP#1035 = 999.9) THEN cast(null as double) ELSE WDSP#1035 END AS WDSP#6671, MXSPD#1036, GUST#1037, MAX#1038, MIN#1039, PRCP#1040, SNDP#1041, FRSHTT#1042, COUNTRY_ABBR#3011, COUNTRY_FULL#3012]\n                        +- Project [STN_NO#2797, WBAN#1028, YEARMODA#1029, TEMP#6526, DEWP#1031, SLP#1032, STP#1033, VISIB#1034, WDSP#1035, MXSPD#1036, GUST#1037, MAX#1038, MIN#1039, PRCP#1040, SNDP#1041, FRSHTT#1042, COUNTRY_ABBR#3011, COUNTRY_FULL#3012]\n                           +- Project [STN_NO#2797, WBAN#1028, YEARMODA#1029, CASE WHEN (TEMP#6193 = 9999.9) THEN cast(null as double) ELSE TEMP#6193 END AS TEMP#6526, DEWP#1031, SLP#1032, STP#1033, VISIB#1034, WDSP#1035, MXSPD#1036, GUST#1037, MAX#1038, MIN#1039, PRCP#1040, SNDP#1041, FRSHTT#1042, COUNTRY_ABBR#3011, COUNTRY_FULL#3012]\n                              +- Project [STN_NO#2797, WBAN#1028, YEARMODA#1029, CASE WHEN (TEMP#5995 = 9999.9) THEN cast(NaN as double) ELSE TEMP#5995 END AS TEMP#6193, DEWP#1031, SLP#1032, STP#1033, VISIB#1034, WDSP#1035, MXSPD#1036, GUST#1037, MAX#1038, MIN#1039, PRCP#1040, SNDP#1041, FRSHTT#1042, COUNTRY_ABBR#3011, COUNTRY_FULL#3012]\n                                 +- Project [STN_NO#2797, WBAN#1028, YEARMODA#1029, CASE WHEN (TEMP#1030 = 9999.9) THEN cast(null as double) ELSE TEMP#1030 END AS TEMP#5995, DEWP#1031, SLP#1032, STP#1033, VISIB#1034, WDSP#1035, MXSPD#1036, GUST#1037, MAX#1038, MIN#1039, PRCP#1040, SNDP#1041, FRSHTT#1042, COUNTRY_ABBR#3011, COUNTRY_FULL#3012]\n                                    +- Project [STN_NO#2797, WBAN#1028, YEARMODA#1029, TEMP#1030, DEWP#1031, SLP#1032, STP#1033, VISIB#1034, WDSP#1035, MXSPD#1036, GUST#1037, MAX#1038, MIN#1039, PRCP#1040, SNDP#1041, FRSHTT#1042, COUNTRY_ABBR#3011, COUNTRY_FULL#3012]\n                                       +- Project [STN_NO#2797, WBAN#1028, YEARMODA#1029, TEMP#1030, DEWP#1031, SLP#1032, STP#1033, VISIB#1034, WDSP#1035, MXSPD#1036, GUST#1037, MAX#1038, MIN#1039, PRCP#1040, SNDP#1041, FRSHTT#1042, COUNTRY_ABBR#3011, COUNTRY_FULL#3012]\n                                          +- Project [STN_NO#2797, WBAN#1028, YEARMODA#1029, TEMP#1030, DEWP#1031, SLP#1032, STP#1033, VISIB#1034, WDSP#1035, MXSPD#1036, GUST#1037, MAX#1038, MIN#1039, PRCP#1040, SNDP#1041, FRSHTT#1042, COUNTRY_ABBR#3011, COUNTRY_FULL#3012]\n                                             +- Project [STN_NO#2797, WBAN#1028, YEARMODA#1029, TEMP#1030, DEWP#1031, SLP#1032, STP#1033, VISIB#1034, WDSP#1035, MXSPD#1036, GUST#1037, MAX#1038, MIN#1039, PRCP#1040, SNDP#1041, FRSHTT#1042, COUNTRY_ABBR#3011, COUNTRY_FULL#3012]\n                                                +- Project [STN_NO#2797, WBAN#1028, YEARMODA#1029, TEMP#1030, DEWP#1031, SLP#1032, STP#1033, VISIB#1034, WDSP#1035, MXSPD#1036, GUST#1037, MAX#1038, MIN#1039, PRCP#1040, SNDP#1041, FRSHTT#1042, COUNTRY_ABBR#3011, COUNTRY_FULL#3012]\n                                                   +- Project [STN_NO#2797, WBAN#1028, YEARMODA#1029, TEMP#1030, DEWP#1031, SLP#1032, STP#1033, VISIB#1034, WDSP#1035, MXSPD#1036, GUST#1037, MAX#1038, MIN#1039, PRCP#1040, SNDP#1041, FRSHTT#1042, COUNTRY_ABBR#3011, COUNTRY_FULL#3012]\n                                                      +- Join Inner, (STN_NO#2797 = cast(STN_NO#2980 as int))\n                                                         :- Project [STN---#1027 AS STN_NO#2797, WBAN#1028, YEARMODA#1029, TEMP#1030, DEWP#1031, SLP#1032, STP#1033, VISIB#1034, WDSP#1035, MXSPD#1036, GUST#1037, MAX#1038, MIN#1039, PRCP#1040, SNDP#1041, FRSHTT#1042]\n                                                         :  +- Union\n                                                         :     :- Relation[STN---#1027,WBAN#1028,YEARMODA#1029,TEMP#1030,DEWP#1031,SLP#1032,STP#1033,VISIB#1034,WDSP#1035,MXSPD#1036,GUST#1037,MAX#1038,MIN#1039,PRCP#1040,SNDP#1041,FRSHTT#1042] csv\n                                                         :     :- Project [STN---#1075, WBAN#1076, YEARMODA#1077, TEMP#1078, DEWP#1079, SLP#1080, STP#1081, VISIB#1082, WDSP#1083, MXSPD#1084, GUST#1085, MAX#1086, MIN#1087, PRCP#1088, SNDP#1089, FRSHTT#1090]\n                                                         :     :  +- Relation[STN---#1075,WBAN#1076,YEARMODA#1077,TEMP#1078,DEWP#1079,SLP#1080,STP#1081,VISIB#1082,WDSP#1083,MXSPD#1084,GUST#1085,MAX#1086,MIN#1087,PRCP#1088,SNDP#1089,FRSHTT#1090] csv\n                                                         :     :- Project [STN---#1123, WBAN#1124, YEARMODA#1125, TEMP#1126, DEWP#1127, SLP#1128, STP#1129, VISIB#1130, WDSP#1131, MXSPD#1132, GUST#1133, MAX#1134, MIN#1135, PRCP#1136, SNDP#1137, FRSHTT#1138]\n                                                         :     :  +- Relation[STN---#1123,WBAN#1124,YEARMODA#1125,TEMP#1126,DEWP#1127,SLP#1128,STP#1129,VISIB#1130,WDSP#1131,MXSPD#1132,GUST#1133,MAX#1134,MIN#1135,PRCP#1136,SNDP#1137,FRSHTT#1138] csv\n                                                         :     :- Project [STN---#1171, WBAN#1172, YEARMODA#1173, TEMP#1174, DEWP#1175, SLP#1176, STP#1177, VISIB#1178, WDSP#1179, MXSPD#1180, GUST#1181, MAX#1182, MIN#1183, PRCP#1184, SNDP#1185, FRSHTT#1186]\n                                                         :     :  +- Relation[STN---#1171,WBAN#1172,YEARMODA#1173,TEMP#1174,DEWP#1175,SLP#1176,STP#1177,VISIB#1178,WDSP#1179,MXSPD#1180,GUST#1181,MAX#1182,MIN#1183,PRCP#1184,SNDP#1185,FRSHTT#1186] csv\n                                                         :     +- Project [STN---#1219, WBAN#1220, YEARMODA#1221, TEMP#1222, DEWP#1223, SLP#1224, STP#1225, VISIB#1226, WDSP#1227, MXSPD#1228, GUST#1229, MAX#1230, MIN#1231, PRCP#1232, SNDP#1233, FRSHTT#1234]\n                                                         :        +- Relation[STN---#1219,WBAN#1220,YEARMODA#1221,TEMP#1222,DEWP#1223,SLP#1224,STP#1225,VISIB#1226,WDSP#1227,MXSPD#1228,GUST#1229,MAX#1230,MIN#1231,PRCP#1232,SNDP#1233,FRSHTT#1234] csv\n                                                         +- Project [COUNTRY_ABBR#3011, COUNTRY_FULL#3012, STN_NO#2980]\n                                                            +- Join Inner, (COUNTRY_ABBR#3011 = COUNTRY_ABBR#2981)\n                                                               :- Relation[COUNTRY_ABBR#3011,COUNTRY_FULL#3012] csv\n                                                               +- Relation[STN_NO#2980,COUNTRY_ABBR#2981] csv\n",
     "output_type": "error",
     "traceback": [
      "\u001b[0;31m---------------------------------------------------------------------------\u001b[0m",
      "\u001b[0;31mAnalysisException\u001b[0m                         Traceback (most recent call last)",
      "\u001b[0;32m<ipython-input-159-a3702446b866>\u001b[0m in \u001b[0;36m<module>\u001b[0;34m\u001b[0m\n\u001b[1;32m     13\u001b[0m \u001b[0;34m\u001b[0m\u001b[0m\n\u001b[1;32m     14\u001b[0m \u001b[0;31m# For each country calculate number of\u001b[0m\u001b[0;34m\u001b[0m\u001b[0;34m\u001b[0m\u001b[0;34m\u001b[0m\u001b[0m\n\u001b[0;32m---> 15\u001b[0;31m \u001b[0mgrouped_weather_data_country_name_tornado_df2\u001b[0m\u001b[0;34m.\u001b[0m\u001b[0mgroupby\u001b[0m\u001b[0;34m(\u001b[0m\u001b[0;34m[\u001b[0m\u001b[0;34m'COUNTRY_FULL'\u001b[0m\u001b[0;34m]\u001b[0m\u001b[0;34m)\u001b[0m\u001b[0;34m.\u001b[0m\u001b[0magg\u001b[0m\u001b[0;34m(\u001b[0m\u001b[0mF\u001b[0m\u001b[0;34m.\u001b[0m\u001b[0msum\u001b[0m\u001b[0;34m(\u001b[0m\u001b[0;34m\"Consecutive_tonado\"\u001b[0m\u001b[0;34m)\u001b[0m\u001b[0;34m)\u001b[0m\u001b[0;34m.\u001b[0m\u001b[0msort\u001b[0m\u001b[0;34m(\u001b[0m\u001b[0;34m'Consecutive_tonado'\u001b[0m\u001b[0;34m)\u001b[0m\u001b[0;34m\u001b[0m\u001b[0;34m\u001b[0m\u001b[0m\n\u001b[0m",
      "\u001b[0;32m~/spark-3.0.1-bin-hadoop2.7/python/pyspark/sql/group.py\u001b[0m in \u001b[0;36magg\u001b[0;34m(self, *exprs)\u001b[0m\n\u001b[1;32m    111\u001b[0m             \u001b[0;31m# Columns\u001b[0m\u001b[0;34m\u001b[0m\u001b[0;34m\u001b[0m\u001b[0;34m\u001b[0m\u001b[0m\n\u001b[1;32m    112\u001b[0m             \u001b[0;32massert\u001b[0m \u001b[0mall\u001b[0m\u001b[0;34m(\u001b[0m\u001b[0misinstance\u001b[0m\u001b[0;34m(\u001b[0m\u001b[0mc\u001b[0m\u001b[0;34m,\u001b[0m \u001b[0mColumn\u001b[0m\u001b[0;34m)\u001b[0m \u001b[0;32mfor\u001b[0m \u001b[0mc\u001b[0m \u001b[0;32min\u001b[0m \u001b[0mexprs\u001b[0m\u001b[0;34m)\u001b[0m\u001b[0;34m,\u001b[0m \u001b[0;34m\"all exprs should be Column\"\u001b[0m\u001b[0;34m\u001b[0m\u001b[0;34m\u001b[0m\u001b[0m\n\u001b[0;32m--> 113\u001b[0;31m             jdf = self._jgd.agg(exprs[0]._jc,\n\u001b[0m\u001b[1;32m    114\u001b[0m                                 _to_seq(self.sql_ctx._sc, [c._jc for c in exprs[1:]]))\n\u001b[1;32m    115\u001b[0m         \u001b[0;32mreturn\u001b[0m \u001b[0mDataFrame\u001b[0m\u001b[0;34m(\u001b[0m\u001b[0mjdf\u001b[0m\u001b[0;34m,\u001b[0m \u001b[0mself\u001b[0m\u001b[0;34m.\u001b[0m\u001b[0msql_ctx\u001b[0m\u001b[0;34m)\u001b[0m\u001b[0;34m\u001b[0m\u001b[0;34m\u001b[0m\u001b[0m\n",
      "\u001b[0;32m~/.local/lib/python3.8/site-packages/py4j/java_gateway.py\u001b[0m in \u001b[0;36m__call__\u001b[0;34m(self, *args)\u001b[0m\n\u001b[1;32m   1302\u001b[0m \u001b[0;34m\u001b[0m\u001b[0m\n\u001b[1;32m   1303\u001b[0m         \u001b[0manswer\u001b[0m \u001b[0;34m=\u001b[0m \u001b[0mself\u001b[0m\u001b[0;34m.\u001b[0m\u001b[0mgateway_client\u001b[0m\u001b[0;34m.\u001b[0m\u001b[0msend_command\u001b[0m\u001b[0;34m(\u001b[0m\u001b[0mcommand\u001b[0m\u001b[0;34m)\u001b[0m\u001b[0;34m\u001b[0m\u001b[0;34m\u001b[0m\u001b[0m\n\u001b[0;32m-> 1304\u001b[0;31m         return_value = get_return_value(\n\u001b[0m\u001b[1;32m   1305\u001b[0m             answer, self.gateway_client, self.target_id, self.name)\n\u001b[1;32m   1306\u001b[0m \u001b[0;34m\u001b[0m\u001b[0m\n",
      "\u001b[0;32m~/spark-3.0.1-bin-hadoop2.7/python/pyspark/sql/utils.py\u001b[0m in \u001b[0;36mdeco\u001b[0;34m(*a, **kw)\u001b[0m\n\u001b[1;32m    132\u001b[0m                 \u001b[0;31m# Hide where the exception came from that shows a non-Pythonic\u001b[0m\u001b[0;34m\u001b[0m\u001b[0;34m\u001b[0m\u001b[0;34m\u001b[0m\u001b[0m\n\u001b[1;32m    133\u001b[0m                 \u001b[0;31m# JVM exception message.\u001b[0m\u001b[0;34m\u001b[0m\u001b[0;34m\u001b[0m\u001b[0;34m\u001b[0m\u001b[0m\n\u001b[0;32m--> 134\u001b[0;31m                 \u001b[0mraise_from\u001b[0m\u001b[0;34m(\u001b[0m\u001b[0mconverted\u001b[0m\u001b[0;34m)\u001b[0m\u001b[0;34m\u001b[0m\u001b[0;34m\u001b[0m\u001b[0m\n\u001b[0m\u001b[1;32m    135\u001b[0m             \u001b[0;32melse\u001b[0m\u001b[0;34m:\u001b[0m\u001b[0;34m\u001b[0m\u001b[0;34m\u001b[0m\u001b[0m\n\u001b[1;32m    136\u001b[0m                 \u001b[0;32mraise\u001b[0m\u001b[0;34m\u001b[0m\u001b[0;34m\u001b[0m\u001b[0m\n",
      "\u001b[0;32m~/spark-3.0.1-bin-hadoop2.7/python/pyspark/sql/utils.py\u001b[0m in \u001b[0;36mraise_from\u001b[0;34m(e)\u001b[0m\n",
      "\u001b[0;31mAnalysisException\u001b[0m: cannot resolve 'sum(`Consecutive_tonado`)' due to data type mismatch: function sum requires numeric types, not boolean;;\n'Aggregate [COUNTRY_FULL#3012], [COUNTRY_FULL#3012, sum(Consecutive_tonado#7873) AS sum(Consecutive_tonado)#7885]\n+- Project [COUNTRY_FULL#3012, YEARMODA#1029, Any_To_Fu_Cl#7736, Any_To_Fu_Cl_prev_day#7868, ((Any_To_Fu_Cl#7736 = 1) AND (Any_To_Fu_Cl_prev_day#7868 = 1)) AS Consecutive_tonado#7873]\n   +- Project [COUNTRY_FULL#3012, YEARMODA#1029, Any_To_Fu_Cl#7736, Any_To_Fu_Cl_prev_day#7868]\n      +- Project [COUNTRY_FULL#3012, YEARMODA#1029, Any_To_Fu_Cl#7736, Any_To_Fu_Cl_prev_day#7868, Any_To_Fu_Cl_prev_day#7868]\n         +- Window [lag(Any_To_Fu_Cl#7736, 1, null) windowspecdefinition(COUNTRY_FULL#3012, YEARMODA#1029 ASC NULLS FIRST, specifiedwindowframe(RowFrame, -1, -1)) AS Any_To_Fu_Cl_prev_day#7868], [COUNTRY_FULL#3012], [YEARMODA#1029 ASC NULLS FIRST]\n            +- Project [COUNTRY_FULL#3012, YEARMODA#1029, Any_To_Fu_Cl#7736]\n               +- Aggregate [COUNTRY_FULL#3012, YEARMODA#1029], [COUNTRY_FULL#3012, YEARMODA#1029, max(To_Fu_Cl#7149) AS Any_To_Fu_Cl#7736]\n                  +- Project [STN_NO#2797, WBAN#1028, YEARMODA#1029, TEMP#6526, DEWP#1031, SLP#1032, STP#1033, VISIB#1034, WDSP#6671, MXSPD#1036, GUST#1037, MAX#1038, MIN#1039, PRCP#1040, SNDP#1041, FRSHTT#1042, COUNTRY_ABBR#3011, COUNTRY_FULL#3012, (cast(FRSHTT#1042 as int) % 10) AS To_Fu_Cl#7149]\n                     +- Project [STN_NO#2797, WBAN#1028, YEARMODA#1029, TEMP#6526, DEWP#1031, SLP#1032, STP#1033, VISIB#1034, CASE WHEN (WDSP#1035 = 999.9) THEN cast(null as double) ELSE WDSP#1035 END AS WDSP#6671, MXSPD#1036, GUST#1037, MAX#1038, MIN#1039, PRCP#1040, SNDP#1041, FRSHTT#1042, COUNTRY_ABBR#3011, COUNTRY_FULL#3012]\n                        +- Project [STN_NO#2797, WBAN#1028, YEARMODA#1029, TEMP#6526, DEWP#1031, SLP#1032, STP#1033, VISIB#1034, WDSP#1035, MXSPD#1036, GUST#1037, MAX#1038, MIN#1039, PRCP#1040, SNDP#1041, FRSHTT#1042, COUNTRY_ABBR#3011, COUNTRY_FULL#3012]\n                           +- Project [STN_NO#2797, WBAN#1028, YEARMODA#1029, CASE WHEN (TEMP#6193 = 9999.9) THEN cast(null as double) ELSE TEMP#6193 END AS TEMP#6526, DEWP#1031, SLP#1032, STP#1033, VISIB#1034, WDSP#1035, MXSPD#1036, GUST#1037, MAX#1038, MIN#1039, PRCP#1040, SNDP#1041, FRSHTT#1042, COUNTRY_ABBR#3011, COUNTRY_FULL#3012]\n                              +- Project [STN_NO#2797, WBAN#1028, YEARMODA#1029, CASE WHEN (TEMP#5995 = 9999.9) THEN cast(NaN as double) ELSE TEMP#5995 END AS TEMP#6193, DEWP#1031, SLP#1032, STP#1033, VISIB#1034, WDSP#1035, MXSPD#1036, GUST#1037, MAX#1038, MIN#1039, PRCP#1040, SNDP#1041, FRSHTT#1042, COUNTRY_ABBR#3011, COUNTRY_FULL#3012]\n                                 +- Project [STN_NO#2797, WBAN#1028, YEARMODA#1029, CASE WHEN (TEMP#1030 = 9999.9) THEN cast(null as double) ELSE TEMP#1030 END AS TEMP#5995, DEWP#1031, SLP#1032, STP#1033, VISIB#1034, WDSP#1035, MXSPD#1036, GUST#1037, MAX#1038, MIN#1039, PRCP#1040, SNDP#1041, FRSHTT#1042, COUNTRY_ABBR#3011, COUNTRY_FULL#3012]\n                                    +- Project [STN_NO#2797, WBAN#1028, YEARMODA#1029, TEMP#1030, DEWP#1031, SLP#1032, STP#1033, VISIB#1034, WDSP#1035, MXSPD#1036, GUST#1037, MAX#1038, MIN#1039, PRCP#1040, SNDP#1041, FRSHTT#1042, COUNTRY_ABBR#3011, COUNTRY_FULL#3012]\n                                       +- Project [STN_NO#2797, WBAN#1028, YEARMODA#1029, TEMP#1030, DEWP#1031, SLP#1032, STP#1033, VISIB#1034, WDSP#1035, MXSPD#1036, GUST#1037, MAX#1038, MIN#1039, PRCP#1040, SNDP#1041, FRSHTT#1042, COUNTRY_ABBR#3011, COUNTRY_FULL#3012]\n                                          +- Project [STN_NO#2797, WBAN#1028, YEARMODA#1029, TEMP#1030, DEWP#1031, SLP#1032, STP#1033, VISIB#1034, WDSP#1035, MXSPD#1036, GUST#1037, MAX#1038, MIN#1039, PRCP#1040, SNDP#1041, FRSHTT#1042, COUNTRY_ABBR#3011, COUNTRY_FULL#3012]\n                                             +- Project [STN_NO#2797, WBAN#1028, YEARMODA#1029, TEMP#1030, DEWP#1031, SLP#1032, STP#1033, VISIB#1034, WDSP#1035, MXSPD#1036, GUST#1037, MAX#1038, MIN#1039, PRCP#1040, SNDP#1041, FRSHTT#1042, COUNTRY_ABBR#3011, COUNTRY_FULL#3012]\n                                                +- Project [STN_NO#2797, WBAN#1028, YEARMODA#1029, TEMP#1030, DEWP#1031, SLP#1032, STP#1033, VISIB#1034, WDSP#1035, MXSPD#1036, GUST#1037, MAX#1038, MIN#1039, PRCP#1040, SNDP#1041, FRSHTT#1042, COUNTRY_ABBR#3011, COUNTRY_FULL#3012]\n                                                   +- Project [STN_NO#2797, WBAN#1028, YEARMODA#1029, TEMP#1030, DEWP#1031, SLP#1032, STP#1033, VISIB#1034, WDSP#1035, MXSPD#1036, GUST#1037, MAX#1038, MIN#1039, PRCP#1040, SNDP#1041, FRSHTT#1042, COUNTRY_ABBR#3011, COUNTRY_FULL#3012]\n                                                      +- Join Inner, (STN_NO#2797 = cast(STN_NO#2980 as int))\n                                                         :- Project [STN---#1027 AS STN_NO#2797, WBAN#1028, YEARMODA#1029, TEMP#1030, DEWP#1031, SLP#1032, STP#1033, VISIB#1034, WDSP#1035, MXSPD#1036, GUST#1037, MAX#1038, MIN#1039, PRCP#1040, SNDP#1041, FRSHTT#1042]\n                                                         :  +- Union\n                                                         :     :- Relation[STN---#1027,WBAN#1028,YEARMODA#1029,TEMP#1030,DEWP#1031,SLP#1032,STP#1033,VISIB#1034,WDSP#1035,MXSPD#1036,GUST#1037,MAX#1038,MIN#1039,PRCP#1040,SNDP#1041,FRSHTT#1042] csv\n                                                         :     :- Project [STN---#1075, WBAN#1076, YEARMODA#1077, TEMP#1078, DEWP#1079, SLP#1080, STP#1081, VISIB#1082, WDSP#1083, MXSPD#1084, GUST#1085, MAX#1086, MIN#1087, PRCP#1088, SNDP#1089, FRSHTT#1090]\n                                                         :     :  +- Relation[STN---#1075,WBAN#1076,YEARMODA#1077,TEMP#1078,DEWP#1079,SLP#1080,STP#1081,VISIB#1082,WDSP#1083,MXSPD#1084,GUST#1085,MAX#1086,MIN#1087,PRCP#1088,SNDP#1089,FRSHTT#1090] csv\n                                                         :     :- Project [STN---#1123, WBAN#1124, YEARMODA#1125, TEMP#1126, DEWP#1127, SLP#1128, STP#1129, VISIB#1130, WDSP#1131, MXSPD#1132, GUST#1133, MAX#1134, MIN#1135, PRCP#1136, SNDP#1137, FRSHTT#1138]\n                                                         :     :  +- Relation[STN---#1123,WBAN#1124,YEARMODA#1125,TEMP#1126,DEWP#1127,SLP#1128,STP#1129,VISIB#1130,WDSP#1131,MXSPD#1132,GUST#1133,MAX#1134,MIN#1135,PRCP#1136,SNDP#1137,FRSHTT#1138] csv\n                                                         :     :- Project [STN---#1171, WBAN#1172, YEARMODA#1173, TEMP#1174, DEWP#1175, SLP#1176, STP#1177, VISIB#1178, WDSP#1179, MXSPD#1180, GUST#1181, MAX#1182, MIN#1183, PRCP#1184, SNDP#1185, FRSHTT#1186]\n                                                         :     :  +- Relation[STN---#1171,WBAN#1172,YEARMODA#1173,TEMP#1174,DEWP#1175,SLP#1176,STP#1177,VISIB#1178,WDSP#1179,MXSPD#1180,GUST#1181,MAX#1182,MIN#1183,PRCP#1184,SNDP#1185,FRSHTT#1186] csv\n                                                         :     +- Project [STN---#1219, WBAN#1220, YEARMODA#1221, TEMP#1222, DEWP#1223, SLP#1224, STP#1225, VISIB#1226, WDSP#1227, MXSPD#1228, GUST#1229, MAX#1230, MIN#1231, PRCP#1232, SNDP#1233, FRSHTT#1234]\n                                                         :        +- Relation[STN---#1219,WBAN#1220,YEARMODA#1221,TEMP#1222,DEWP#1223,SLP#1224,STP#1225,VISIB#1226,WDSP#1227,MXSPD#1228,GUST#1229,MAX#1230,MIN#1231,PRCP#1232,SNDP#1233,FRSHTT#1234] csv\n                                                         +- Project [COUNTRY_ABBR#3011, COUNTRY_FULL#3012, STN_NO#2980]\n                                                            +- Join Inner, (COUNTRY_ABBR#3011 = COUNTRY_ABBR#2981)\n                                                               :- Relation[COUNTRY_ABBR#3011,COUNTRY_FULL#3012] csv\n                                                               +- Relation[STN_NO#2980,COUNTRY_ABBR#2981] csv\n"
     ]
    }
   ],
   "source": [
    "# Create a column to show if there was any torndao in the previous day\n",
    "\n",
    "from pyspark.sql.window import Window\n",
    "windowSpec = Window().partitionBy(['COUNTRY_FULL']).orderBy('YEARMODA')\n",
    "grouped_weather_data_country_name_tornado_df1 = grouped_weather_data_country_name_tornado_df.withColumn(\"Any_To_Fu_Cl_prev_day\", F.lag(\"Any_To_Fu_Cl\", 1).over(windowSpec))\n",
    "\n",
    "\n",
    "# Creete a column to show if there was any tonado in current day and previous day\n",
    "\n",
    "grouped_weather_data_country_name_tornado_df2 = grouped_weather_data_country_name_tornado_df1.withColumn(\"Consecutive_tonado\",\n",
    "                                                                                                       (F.col(\"Any_To_Fu_Cl\")==1) & (F.col('Any_To_Fu_Cl_prev_day')==1)\n",
    "                                                                                                      )\n",
    "\n",
    "# For each country calculate number of \n",
    "grouped_weather_data_country_name_tornado_df2.groupby(['COUNTRY_FULL']).agg(F.sum(\"Consecutive_tonado\")).sort('Consecutive_tonado')\n"
   ]
  },
  {
   "cell_type": "code",
   "execution_count": null,
   "metadata": {},
   "outputs": [],
   "source": [
    "# There is a small error in the above code that needs to be finxed, due to time limit I will not fx it"
   ]
  },
  {
   "cell_type": "code",
   "execution_count": null,
   "metadata": {},
   "outputs": [],
   "source": [
    "# 3. Which country had the second highest average mean wind speed over the year?"
   ]
  },
  {
   "cell_type": "code",
   "execution_count": 128,
   "metadata": {},
   "outputs": [
    {
     "name": "stdout",
     "output_type": "stream",
     "text": [
      "+-------+------------------+\n",
      "|summary|              WDSP|\n",
      "+-------+------------------+\n",
      "|  count|           4433950|\n",
      "|   mean| 28.10708938982154|\n",
      "| stddev|146.24980820722186|\n",
      "|    min|               0.0|\n",
      "|    max|             999.9|\n",
      "+-------+------------------+\n",
      "\n"
     ]
    }
   ],
   "source": [
    "weather_data_country_name_df.describe('WDSP').show()"
   ]
  },
  {
   "cell_type": "code",
   "execution_count": 129,
   "metadata": {},
   "outputs": [],
   "source": [
    "# The \"WDSPD\" column NA values are shows with 999.9. We first replace these values by None\n",
    "weather_data_country_name_df = weather_data_country_name_df.replace(999.9, None, subset=[\"WDSP\"])"
   ]
  },
  {
   "cell_type": "code",
   "execution_count": 130,
   "metadata": {},
   "outputs": [
    {
     "name": "stdout",
     "output_type": "stream",
     "text": [
      "+-------+-----------------+\n",
      "|summary|             WDSP|\n",
      "+-------+-----------------+\n",
      "|  count|          4335825|\n",
      "|   mean|6.114232354857499|\n",
      "| stddev|4.107605511186825|\n",
      "|    min|              0.0|\n",
      "|    max|             71.8|\n",
      "+-------+-----------------+\n",
      "\n"
     ]
    }
   ],
   "source": [
    "weather_data_country_name_df.describe('WDSP').show()"
   ]
  },
  {
   "cell_type": "code",
   "execution_count": null,
   "metadata": {},
   "outputs": [],
   "source": [
    "# From the above there is no values with 999.9 in the dataframe anymore\n",
    "# Since we are calculating the mean windspeed here, we do not need to replace the values\n",
    "# however, if further processing is required, we could replace them with mean or median of WDSP values for each country."
   ]
  },
  {
   "cell_type": "code",
   "execution_count": 131,
   "metadata": {},
   "outputs": [
    {
     "name": "stdout",
     "output_type": "stream",
     "text": [
      "+------------+--------+--------------------+\n",
      "|COUNTRY_FULL|YEARMODA|average_day_wind_spd|\n",
      "+------------+--------+--------------------+\n",
      "|     BELGIUM|20190215|   5.466666666666667|\n",
      "| SWITZERLAND|20190105|   6.677083333333333|\n",
      "| SWITZERLAND|20190307|   9.391666666666667|\n",
      "| SWITZERLAND|20190309|   9.470833333333333|\n",
      "| SWITZERLAND|20190918|   5.672916666666667|\n",
      "+------------+--------+--------------------+\n",
      "only showing top 5 rows\n",
      "\n"
     ]
    }
   ],
   "source": [
    "# First compute the averaage wind speed for day over all statiions in each country\n",
    "\n",
    "country_day_mean_wind_spd_df = weather_data_country_name_df.groupBy([\"COUNTRY_FULL\", 'YEARMODA'])\\\n",
    "                                                               .agg(F.mean(\"WDSP\").alias(\"average_day_wind_spd\"))\n",
    "\n",
    "country_day_mean_wind_spd_df.show(5)"
   ]
  },
  {
   "cell_type": "code",
   "execution_count": 132,
   "metadata": {},
   "outputs": [
    {
     "name": "stdout",
     "output_type": "stream",
     "text": [
      "+--------------------+------------------+\n",
      "|        COUNTRY_FULL|  average_wind_spd|\n",
      "+--------------------+------------------+\n",
      "|FRENCH SOUTHERN A...|18.989589041095886|\n",
      "|           ST. LUCIA|15.469672131147542|\n",
      "|FALKLAND ISLANDS ...| 15.34630136986301|\n",
      "|           MAURITIUS|12.767671232876712|\n",
      "|          ANTARCTICA|  12.0260682776128|\n",
      "+--------------------+------------------+\n",
      "only showing top 5 rows\n",
      "\n"
     ]
    }
   ],
   "source": [
    "# Now caluclate mean wind speed over all days for each country\n",
    "\n",
    "country_mean_wind_spd_df = country_day_mean_wind_spd_df.groupBy([\"COUNTRY_FULL\"])\\\n",
    "                                               .agg(F.mean(\"average_day_wind_spd\").alias(\"average_wind_spd\"))\\\n",
    "                                               .orderBy(F.desc('average_wind_spd'))\n",
    "\n",
    "country_mean_wind_spd_df.show(5)"
   ]
  },
  {
   "cell_type": "code",
   "execution_count": null,
   "metadata": {},
   "outputs": [],
   "source": [
    "#  From the above results, ST. LUCIA has the second highest wind speed over the year"
   ]
  }
 ],
 "metadata": {
  "kernelspec": {
   "display_name": "Python 3",
   "language": "python",
   "name": "python3"
  },
  "language_info": {
   "codemirror_mode": {
    "name": "ipython",
    "version": 3
   },
   "file_extension": ".py",
   "mimetype": "text/x-python",
   "name": "python",
   "nbconvert_exporter": "python",
   "pygments_lexer": "ipython3",
   "version": "3.8.5"
  }
 },
 "nbformat": 4,
 "nbformat_minor": 4
}
